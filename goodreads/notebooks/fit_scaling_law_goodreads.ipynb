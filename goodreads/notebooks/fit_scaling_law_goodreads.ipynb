{
 "cells": [
  {
   "cell_type": "code",
   "execution_count": null,
   "metadata": {},
   "outputs": [],
   "source": [
    "%pylab inline\n",
    "from mpl_toolkits import mplot3d\n",
    "import matplotlib\n",
    "import matplotlib.pyplot as plt\n",
    "import seaborn as sns\n",
    "\n",
    "import os\n",
    "import pandas as pd\n",
    "import numpy as np\n",
    "\n",
    "from importlib import reload\n",
    "import sys\n",
    "sys.path.append('../../code/scripts')\n",
    "import utils\n",
    "import plotting as p\n",
    "\n",
    "import time\n",
    "import fit_scaling_law\n"
   ]
  },
  {
   "cell_type": "code",
   "execution_count": null,
   "metadata": {},
   "outputs": [],
   "source": [
    "# 0. setup\n",
    "group_key = 'genre'\n",
    "groups = [0,1]\n",
    "genre_pair = ['history', 'fantasy']\n",
    "\n",
    "#plotting\n",
    "scale = 5\n",
    "\n",
    "genre_id_dict = {}\n",
    "for k in range(2):\n",
    "    genre_id_dict[k] = genre_pair[k]\n",
    "    \n",
    "group_id_dict = genre_id_dict"
   ]
  },
  {
   "cell_type": "markdown",
   "metadata": {},
   "source": [
    "## 1. read the results of u-plot and additional data collection"
   ]
  },
  {
   "cell_type": "code",
   "execution_count": null,
   "metadata": {},
   "outputs": [],
   "source": [
    "n_train_per_group = 50000\n",
    "obj_str = 'ERM'\n",
    "pred_fxn_name = 'logistic_regression'\n",
    "acc_key = 'mae'\n",
    "param_dict = {'penalty': ['l2'], 'C': [1.0], 'solver':['lbfgs']}\n",
    "num_seeds_eval = 10\n",
    "num_seeds_additional = 2\n",
    "\n",
    "    \n",
    "results_general_path = '../../results/subset_results'\n",
    "results_descriptor = 'goodreads_2k_history_fantasy_{0}_'.format('subsetting')\n",
    "pred_fxn_base_name = 'subset_{0}'.format(group_key, pred_fxn_name)\n",
    "\n",
    "this_results_path = os.path.join(results_general_path, results_descriptor + obj_str)\n",
    "results_path_this_pred_fxn = os.path.join(this_results_path,pred_fxn_base_name, pred_fxn_name)\n",
    " \n",
    "these_keys = tuple([x[0] for x in param_dict.values()])"
   ]
  },
  {
   "cell_type": "code",
   "execution_count": null,
   "metadata": {},
   "outputs": [],
   "source": [
    "subset_sizes, accs_by_group, accs_total = [], [], []\n",
    "\n",
    "reload(utils)\n",
    "# add in all the data sources\n",
    "subset_types = ['subsetting',\n",
    "                'additional', \n",
    "                'additional_equal_group_sizes',\n",
    "               ]\n",
    "num_seeds_by_subset_type = [10,10,10]\n",
    "\n",
    "need_to_tile_data = (len(np.unique(num_seeds_by_subset_type)) == 1)\n",
    "r = 0\n",
    "for i,subset_type in enumerate(subset_types):\n",
    "    results_path_this = results_path_this_pred_fxn.replace('subsetting',subset_type)\n",
    "    r = utils.read_subset_results_nonimage(results_path_this,\n",
    "                                           param_dict,\n",
    "                                           by_seed=True,\n",
    "                                           seed_start = 0,\n",
    "                                           num_seeds = num_seeds_by_subset_type[i],\n",
    "                                           acc_keys = ['mae','mse'])[these_keys] \n",
    "\n",
    "    subset_sizes.append(r['subset_sizes'])\n",
    "    accs_by_group.append(r['accs_by_group'])\n",
    "    accs_total.append(r['accs_total'])\n",
    "    \n",
    "r_both = utils.combine_data_results(subset_sizes,\n",
    "                                    accs_by_group,\n",
    "                                    accs_total)\n",
    "subset_sizes_both, accs_by_group_both, accs_total_both = r_both"
   ]
  },
  {
   "cell_type": "code",
   "execution_count": null,
   "metadata": {},
   "outputs": [],
   "source": [
    "# check that the scaling pattern looks right\n",
    "fig, ax = plt.subplots()\n",
    "plt.scatter(subset_sizes_both[0], subset_sizes_both[1], \n",
    "           c = accs_total_both['mae'].mean(axis=1))\n",
    "ax.set_aspect('equal')\n",
    "ax.set_xlabel('# training samples group A')\n",
    "ax.set_ylabel('# training samples total')\n",
    "plt.colorbar(ax=ax)\n",
    "plt.title(acc_key)"
   ]
  },
  {
   "cell_type": "markdown",
   "metadata": {},
   "source": [
    "## 2a. fit scaling rules to data"
   ]
  },
  {
   "cell_type": "code",
   "execution_count": null,
   "metadata": {
    "scrolled": true
   },
   "outputs": [],
   "source": [
    "min_pts_fit = 2500\n",
    "\n",
    "upper_bound_delta = accs_by_group_both[acc_key].min(axis=1).max()\n",
    "popts, pcovs = fit_scaling_law.get_group_fits(group_pair = genre_pair,\n",
    "                                              accs_by_group = accs_by_group_both,\n",
    "                                              subset_sizes = subset_sizes_both,\n",
    "                                              acc_key = acc_key,\n",
    "                                              delta_bounds = [0,upper_bound_delta],\n",
    "                                              min_pts = min_pts_fit,\n",
    "                                              # already tiled\n",
    "                                              need_to_tile_data=need_to_tile_data)\n",
    "\n",
    "# print line for putting in the overleaf\n",
    "\n",
    "p.print_table_rows('goodreads', genre_pair, popts, pcovs, min_pts_fit)\n"
   ]
  },
  {
   "cell_type": "markdown",
   "metadata": {},
   "source": [
    "## 2b. plot the scaling law fits"
   ]
  },
  {
   "cell_type": "code",
   "execution_count": null,
   "metadata": {},
   "outputs": [],
   "source": [
    "num_seeds_eval = 10\n",
    "for i,subset_type in enumerate(['additional_equal_group_sizes']):\n",
    "    \n",
    "    results_path_this = results_path_this_pred_fxn.replace('subsetting',subset_type)\n",
    "    r = utils.read_subset_results_nonimage(results_path_this,\n",
    "                                           param_dict,\n",
    "                                           by_seed=True,\n",
    "                                           seed_start = 0,\n",
    "                                           num_seeds = num_seeds_eval,\n",
    "                                           acc_keys = ['mae','mse'])[these_keys] \n",
    "\n",
    "    subset_sizes_plot = r['subset_sizes']\n",
    "    accs_by_group_plot = r['accs_by_group']\n",
    "    accs_total_plot = r['accs_total']\n",
    "        "
   ]
  },
  {
   "cell_type": "code",
   "execution_count": null,
   "metadata": {},
   "outputs": [],
   "source": [
    "subset_sizes_plot"
   ]
  },
  {
   "cell_type": "code",
   "execution_count": null,
   "metadata": {},
   "outputs": [],
   "source": [
    "fig, ax = p.setup_scaling_plot_ax()\n",
    "reload(p)\n",
    "p.plot_scaling_fits(subset_sizes_plot,\n",
    "                                accs_by_group_plot, \n",
    "                                group_names = genre_pair,\n",
    "                                n_thresh_for_scaling = min_pts_fit,\n",
    "                                n_thresh_for_plotting = 0,\n",
    "                                acc_key = acc_key, \n",
    "                                popts=popts,\n",
    "                                loglog=True, \n",
    "                                show_data_not_fitted = True,\n",
    "                                show_fitted_line = True,\n",
    "                                max_one_group=False,\n",
    "                                dot_legend = True,\n",
    "                                full_legend = False,\n",
    "                                ax=ax)\n",
    "\n",
    "#ax.set_xlim(500)\n",
    "ax.set_xlabel(r'\\# training points from each group ($n_A = n_B$)');\n",
    "ax.set_ylabel(r'$\\ell_1$ loss');\n",
    "ax.set_title('Goodreads')\n",
    "\n",
    "plt.savefig('../../figures/scaling_goodreads.pdf', bbox_inches='tight')"
   ]
  },
  {
   "cell_type": "markdown",
   "metadata": {},
   "source": [
    "# extra: plot 3d"
   ]
  },
  {
   "cell_type": "code",
   "execution_count": null,
   "metadata": {},
   "outputs": [],
   "source": [
    "\n",
    "\n",
    "%pylab widget\n",
    "\n",
    "\n",
    "show_fitted_line = True\n",
    "\n",
    "for g in [0,1]:\n",
    "    plt.figure(figsize=(10,8))\n",
    "    ax = plt.axes(projection='3d')\n",
    "    \n",
    "    if need_to_tile_data:\n",
    "        ns, y = fit_scaling_law.tile_data(subset_sizes_both.sum(axis=0), \n",
    "                          accs_by_group_both[acc_key][g])\n",
    "\n",
    "        njs, _ = fit_scaling_law.tile_data(subset_sizes_both[g], \n",
    "                          accs_by_group_both[acc_key][g])\n",
    "        \n",
    "        y_means = accs_by_group_both[acc_key][g].mean(axis=1)\n",
    "        ax.scatter3D(subset_sizes_both.sum(axis=0), subset_sizes_both[g], \n",
    "                y_means, c=y_means, s=100,cmap='inferno')\n",
    "        \n",
    "\n",
    "    else:\n",
    "        ns = subset_sizes_both.sum(axis=0)\n",
    "        njs = subset_sizes_both[g]\n",
    "        y = accs_by_group_both[acc_key][g]\n",
    "        \n",
    "        ax.scatter3D(subset_sizes_both.sum(axis=0), subset_sizes_both[g], \n",
    "                y, c=y, s=100,cmap='inferno')\n",
    "            \n",
    "    \n",
    "    ax.set_xlabel('n')\n",
    "    ax.set_ylabel('n_j')\n",
    "    ax.set_zlabel('err')\n",
    "\n",
    "    if show_fitted_line:\n",
    "        x_fit, y_fit = np.meshgrid(np.linspace(ns.min(), ns.max(),100),\n",
    "                                   np.linspace(njs.min(), njs.max(),50))\n",
    "        \n",
    "        def f_fit(x_0,y_0):\n",
    "            return fit_scaling_law.modified_ipl((x_0, y_0), *popts[g])\n",
    "        \n",
    "        z_fit = f_fit(y_fit, x_fit)\n",
    "        \n",
    "        ax.plot_surface(x_fit, y_fit, z_fit, \n",
    "                        rstride=1, cstride=1,cmap='inferno', \n",
    "                        edgecolor='none',\n",
    "                        alpha=0.5,\n",
    "                        zorder=3)\n",
    "        \n",
    "        ax.set_title(genre_id_dict[g])\n"
   ]
  },
  {
   "cell_type": "code",
   "execution_count": null,
   "metadata": {},
   "outputs": [],
   "source": []
  }
 ],
 "metadata": {
  "kernelspec": {
   "display_name": "Python 3",
   "language": "python",
   "name": "python3"
  },
  "language_info": {
   "codemirror_mode": {
    "name": "ipython",
    "version": 3
   },
   "file_extension": ".py",
   "mimetype": "text/x-python",
   "name": "python",
   "nbconvert_exporter": "python",
   "pygments_lexer": "ipython3",
   "version": "3.8.5"
  }
 },
 "nbformat": 4,
 "nbformat_minor": 4
}
