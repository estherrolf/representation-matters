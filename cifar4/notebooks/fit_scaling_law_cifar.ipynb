{
 "cells": [
  {
   "cell_type": "code",
   "execution_count": null,
   "metadata": {},
   "outputs": [],
   "source": [
    "%pylab inline\n",
    "from mpl_toolkits import mplot3d\n",
    "import matplotlib.pyplot as plt\n",
    "import pickle\n",
    "import numpy as np\n",
    "import os\n",
    "\n",
    "import sys\n",
    "sys.path.append('../../code/scripts')\n",
    "import utils\n",
    "import fit_scaling_law\n",
    "import plotting as p"
   ]
  },
  {
   "cell_type": "markdown",
   "metadata": {},
   "source": [
    "# 1. aggregate data"
   ]
  },
  {
   "cell_type": "code",
   "execution_count": null,
   "metadata": {},
   "outputs": [],
   "source": [
    "acc_key = 'acc'\n",
    "acc_keys = ['auc_roc', 'acc']\n",
    "group_id_dict_r = {0: 'vehicle', 1: 'animal'}\n",
    "group_names_r = list(group_id_dict_r.values())\n",
    "group_key = 'animal'"
   ]
  },
  {
   "cell_type": "code",
   "execution_count": null,
   "metadata": {},
   "outputs": [],
   "source": [
    "subset_sizes, accs_by_group, accs_total = [], [], []\n",
    "\n",
    "subset_types = ['cifar4_additional_< experiment name >_ERM',\n",
    "                'cifar4_additional_equal_group_sizes_< experiment name >_ERM', \n",
    "                'cifar4_subsetting_< experiment name >_ERM'\n",
    "               ]\n",
    "\n",
    "num_seeds_by_subset_type = [10,10,10]\n",
    "\n",
    "for i,subset_type in enumerate(subset_types):\n",
    "    print(num_seeds_by_subset_type[i])\n",
    "    r = utils.read_in_results(group_key,\n",
    "                              results_type = 'subset',\n",
    "                              results_identifier = subset_type,\n",
    "                              num_seeds=num_seeds_by_subset_type[i],\n",
    "                              obj='ERM',\n",
    "                              acc_keys = ['acc','auc_roc'],\n",
    "                              sgd_params = {'lr': 0.001, 'weight_decay': 0.0001, 'momentum': 0.9},\n",
    "                              num_epochs = 20,\n",
    "                              add_reverse_accs = True)\n",
    "    subset_sizes.append(r[1])\n",
    "    accs_total.append(r[2])\n",
    "    accs_by_group.append(r[3])\n",
    "\n",
    "r_both = utils.combine_data_results(subset_sizes,\n",
    "                                    accs_by_group,\n",
    "                                    accs_total)\n",
    "\n",
    "subset_sizes_r, accs_by_group_r, accs_total = r_both"
   ]
  },
  {
   "cell_type": "code",
   "execution_count": null,
   "metadata": {},
   "outputs": [],
   "source": [
    "acc_key = '1 - acc'\n",
    "#plt.scatter(subset_sizes[0], subset_sizes[1], c = accs_total[acc_key].mean(axis=1))\n",
    "#plt.colorbar();"
   ]
  },
  {
   "cell_type": "markdown",
   "metadata": {},
   "source": [
    "# 1. fit scaling rules to data (flip first)"
   ]
  },
  {
   "cell_type": "code",
   "execution_count": null,
   "metadata": {},
   "outputs": [],
   "source": [
    "flipped_results = utils.flip_group_results(accs_by_group_r, \n",
    "                                           subset_sizes_r, \n",
    "                                           group_id_dict_r, \n",
    "                                           [0,0], \n",
    "                                           group_names_r)\n",
    "\n",
    "\n",
    "accs_by_group, subset_sizes, group_id_dict, gammas, group_names = flipped_results"
   ]
  },
  {
   "cell_type": "code",
   "execution_count": null,
   "metadata": {},
   "outputs": [],
   "source": [
    "group_id_dict"
   ]
  },
  {
   "cell_type": "code",
   "execution_count": null,
   "metadata": {},
   "outputs": [],
   "source": [
    "group_names"
   ]
  },
  {
   "cell_type": "code",
   "execution_count": null,
   "metadata": {},
   "outputs": [],
   "source": [
    "min_pts_fit = 500\n",
    "from importlib import reload\n",
    "reload(fit_scaling_law)\n",
    "\n",
    "acc_key = '1 - acc'\n",
    "group_pair = group_names\n",
    "\n",
    "popts, pcovs = fit_scaling_law.get_group_fits(group_pair = [0,1],\n",
    "                                              accs_by_group = accs_by_group,\n",
    "                                              subset_sizes = subset_sizes,\n",
    "                                              acc_key = acc_key,\n",
    "                                              delta_bounds = [0,1],\n",
    "                                              min_pts = min_pts_fit, \n",
    "                                             need_to_tile_data = True)\n",
    "\n",
    "p.print_table_rows('CIFAR-4', group_names, popts, pcovs, min_pts_fit)\n"
   ]
  },
  {
   "cell_type": "code",
   "execution_count": null,
   "metadata": {},
   "outputs": [],
   "source": [
    "for i,subset_type in enumerate(['cifar4_additional_equal_group_sizes_< experiment name >_ERM']):\n",
    "    r = utils.read_in_results(group_key,\n",
    "                      results_type = 'subset',\n",
    "                      results_identifier = subset_type,\n",
    "                      num_seeds= 10,\n",
    "                      obj='ERM',\n",
    "                      acc_keys = ['acc','auc_roc'],\n",
    "                      sgd_params = {'lr': 0.001, 'weight_decay': 0.0001, 'momentum': 0.9},\n",
    "                      num_epochs = 20,\n",
    "                      add_reverse_accs=True)\n",
    "    \n",
    "    _, subset_sizes_plot_r, accs_total_plot_r, accs_by_group_plot_r = r\n",
    "    \n",
    "flipped_results_plot = utils.flip_group_results(accs_by_group_plot_r, \n",
    "                                                subset_sizes_plot_r, \n",
    "                                                group_id_dict_r, \n",
    "                                               [0,0], \n",
    "                                               group_names_r)\n",
    "\n",
    "accs_by_group_plot, subset_sizes_plot, _, _, _ = flipped_results_plot    \n",
    "        "
   ]
  },
  {
   "cell_type": "code",
   "execution_count": null,
   "metadata": {},
   "outputs": [],
   "source": [
    "fig, ax = p.setup_scaling_plot_ax()\n",
    "reload(p)\n",
    "p.plot_scaling_fits(subset_sizes_plot,\n",
    "                                accs_by_group_plot, \n",
    "                                group_names = group_names,\n",
    "                                n_thresh_for_scaling = min_pts_fit,\n",
    "                                n_thresh_for_plotting = 0,\n",
    "                                acc_key = acc_key, \n",
    "                                popts=popts,\n",
    "                                loglog=True, \n",
    "                                show_data_not_fitted = True,\n",
    "                                show_fitted_line = True,\n",
    "                                max_one_group=False,\n",
    "                                dot_legend = True,\n",
    "                                full_legend = False,\n",
    "                                #full_legend_loc_outside=False,\n",
    "                                ax=ax)\n",
    "\n",
    "ax.set_xlabel(r'\\# training points from each group ($n_A = n_B$)');\n",
    "ax.set_ylabel(r'0/1 loss')\n",
    "ax.loglog()\n",
    "ax.set_title('CIFAR-4')\n",
    "ax.set_ylim(.008)\n",
    "\n",
    "plt.savefig('../../figures/scaling_cifar4_flipped.pdf', bbox_inches='tight')"
   ]
  },
  {
   "cell_type": "code",
   "execution_count": null,
   "metadata": {},
   "outputs": [],
   "source": [
    "%pylab widget\n",
    "\n",
    "show_fitted_line = True\n",
    "need_to_tile_data = True\n",
    "\n",
    "for g in [0,1]:\n",
    "    plt.figure(figsize=(10,8))\n",
    "    ax = plt.axes(projection='3d')\n",
    "    \n",
    "    if need_to_tile_data:\n",
    "        ns, y = fit_scaling_law.tile_data(subset_sizes.sum(axis=0), \n",
    "                          accs_by_group[acc_key][g])\n",
    "\n",
    "        njs, _ = fit_scaling_law.tile_data(subset_sizes[g], \n",
    "                          accs_by_group[acc_key][g])\n",
    "        \n",
    "        y_means = accs_by_group[acc_key][g].mean(axis=1)\n",
    "        ax.scatter3D(subset_sizes.sum(axis=0), subset_sizes[g], \n",
    "                np.log(y_means), c=y_means, s=100,cmap='inferno')\n",
    "        \n",
    "\n",
    "    else:\n",
    "        ns = subset_sizes.sum(axis=0)\n",
    "        njs = subset_sizes[g]\n",
    "        y = accs_by_group[acc_key][g]\n",
    "        \n",
    "        ax.scatter3D(subset_sizes.sum(axis=0), subset_sizes[g], \n",
    "                np.log(y), c=y, s=100,cmap='inferno')\n",
    "            \n",
    "    \n",
    "    ax.set_xlabel('n')\n",
    "    ax.set_ylabel('n_j')\n",
    "    ax.set_zlabel('err')\n",
    "\n",
    "    if show_fitted_line:\n",
    "        x_fit, y_fit = np.meshgrid(np.linspace(ns.min(), ns.max(),100),\n",
    "                                   np.linspace(njs.min(), njs.max(),50))\n",
    "        \n",
    "        def f_fit(x_0,y_0):\n",
    "            \n",
    "            fs_grid = np.ones(x_0.shape)*np.inf\n",
    "            valid_idxs = np.where(x_0 > 0)\n",
    "            fs =  fit_scaling_law.modified_ipl((x_0[valid_idxs],\n",
    "                                                y_0[valid_idxs]), \n",
    "                                                *popts[g])\n",
    "            fs_grid[valid_idxs] = fs\n",
    "            return np.log(fs_grid)\n",
    "        \n",
    "        z_fit = f_fit(y_fit, x_fit)\n",
    "        \n",
    "        ax.plot_surface(x_fit, y_fit, z_fit, \n",
    "                        rstride=1, cstride=1,cmap='inferno', \n",
    "                        edgecolor='none',\n",
    "                        alpha=0.5,\n",
    "                        zorder=3)\n",
    "        \n",
    "        #ax.set_title(group_id_dict[g])\n",
    "\n",
    "        #ax.set_zscale('log')"
   ]
  },
  {
   "cell_type": "code",
   "execution_count": null,
   "metadata": {},
   "outputs": [],
   "source": []
  }
 ],
 "metadata": {
  "kernelspec": {
   "display_name": "Python 3",
   "language": "python",
   "name": "python3"
  },
  "language_info": {
   "codemirror_mode": {
    "name": "ipython",
    "version": 3
   },
   "file_extension": ".py",
   "mimetype": "text/x-python",
   "name": "python",
   "nbconvert_exporter": "python",
   "pygments_lexer": "ipython3",
   "version": "3.8.5"
  }
 },
 "nbformat": 4,
 "nbformat_minor": 4
}
