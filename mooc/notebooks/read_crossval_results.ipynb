{
 "cells": [
  {
   "cell_type": "code",
   "execution_count": null,
   "metadata": {},
   "outputs": [],
   "source": [
    "%pylab inline\n",
    "import matplotlib.pyplot as plt\n",
    "\n",
    "import os\n",
    "import numpy as np\n",
    "import pandas as pd\n",
    "\n",
    "\n",
    "from importlib import reload\n",
    "import sys\n",
    "sys.path.append('../../code/scripts')\n",
    "from dataset_params import dataset_params\n",
    "import utils\n",
    "reload(utils)\n",
    "from utils import get_best_hp_results,read_subset_results_nonimage\n",
    "import pickle\n",
    "import itertools\n",
    "\n",
    "import plotting\n"
   ]
  },
  {
   "cell_type": "code",
   "execution_count": null,
   "metadata": {},
   "outputs": [],
   "source": [
    "# 0. setup\n",
    "genre_pair = ['A', 'B']\n",
    "\n",
    "# for plotting\n",
    "genre_id_dict = {}\n",
    "for k in range(2):\n",
    "    genre_id_dict[k] = genre_pair[k]"
   ]
  },
  {
   "cell_type": "code",
   "execution_count": null,
   "metadata": {},
   "outputs": [],
   "source": [
    "results_tag = 'no_demographics'\n",
    "results_descriptor_ERM = 'mooc_subsetting_post_secondary_hpSel_{0}_ERM'.format(results_tag)\n",
    "results_general_path = '../../results/subset_results/'\n",
    "this_results_path_ERM = os.path.join(results_general_path, results_descriptor_ERM)\n",
    "\n",
    "group_key = 'post_secondary'\n",
    "\n",
    "#plotting\n",
    "scale = 5\n",
    "acc_key = 'auc_roc'\n",
    "\n",
    "groups = [0,1]\n",
    "\n",
    "gamma0 = dataset_params['mooc']['gamma']\n",
    "gammas = [gamma0,1-gamma0]"
   ]
  },
  {
   "cell_type": "markdown",
   "metadata": {},
   "source": [
    "# 1. Ridge regression"
   ]
  },
  {
   "cell_type": "code",
   "execution_count": null,
   "metadata": {},
   "outputs": [],
   "source": [
    "reload(utils)\n",
    "from utils import get_best_hp_results\n",
    "pred_fxn_name = 'ridge'\n",
    "param_dict = {'alpha': [0.001,0.01,0.1,1.0,10.0]}\n",
    "\n",
    "pred_fxn_base_name = 'subset_{0}_5foldcv/{1}'.format(group_key, pred_fxn_name)\n",
    "this_results_path_ERM = os.path.join(results_general_path, results_descriptor_ERM)\n",
    "results_path_this_pred_fxn = os.path.join(this_results_path_ERM,pred_fxn_base_name)\n",
    "\n",
    "print(param_dict)\n",
    "rs_ERM = read_subset_results_nonimage(results_path_this_pred_fxn, param_dict)\n",
    "rs_IW = read_subset_results_nonimage(results_path_this_pred_fxn.replace('ERM','IW'), param_dict)\n",
    "\n",
    "opt_df_ERM, _ = get_best_hp_results(results_path_this_pred_fxn,param_dict, \n",
    "                                    gammas=gammas,acc_key = acc_key)\n",
    "opt_df_IW, _ = get_best_hp_results(results_path_this_pred_fxn.replace('ERM','IW'),\n",
    "                                  param_dict, gammas=gammas,acc_key = acc_key)\n",
    "\n",
    "alphas = param_dict['alpha']\n",
    "\n",
    "fig, ax = plt.subplots(1,len(alphas),\n",
    "                       figsize=(scale*len(alphas), scale*1),\n",
    "                       sharey=True)\n",
    "\n",
    "rs_dicts = [rs_ERM, rs_IW]\n",
    "objs = ['ERM','IW']\n",
    "ls = ['-','--' ]\n",
    "for i,alpha in enumerate(alphas):\n",
    "    for j,rs in enumerate(rs_dicts):\n",
    "        results = rs[(alpha,)]\n",
    "        cv_accs_by_group, cv_accs_total = results['accs_by_group'], results['accs_total']\n",
    "        subset_sizes_cv = results['subset_sizes']\n",
    "        subset_fracs_cv = subset_sizes_cv / subset_sizes_cv.sum(axis=0)\n",
    "        plotting.plot_by_group(cv_accs_by_group,\n",
    "                               cv_accs_total,\n",
    "                               subset_fracs_cv,\n",
    "                               acc_key,\n",
    "                               genre_id_dict,\n",
    "                              # gammas = [gamma0,1-gamma0],\n",
    "                               pop_weights = 'by_eval_set',\n",
    "                               label_append = ' ({0})'.format(objs[j]),\n",
    "                               range_type='stddev', \n",
    "                               title='alpha: {0}'.format(alpha),\n",
    "                               ax=ax[i],\n",
    "                               ls = ls[j],\n",
    "                               ylim=None,\n",
    "                               legend=False)\n",
    "    \n",
    "plt.legend();\n",
    "plt.ylim(0.92,1.0)"
   ]
  },
  {
   "cell_type": "code",
   "execution_count": null,
   "metadata": {},
   "outputs": [],
   "source": [
    "opt_df_ERM[opt_df_ERM['group'] == 'min_over_groups']"
   ]
  },
  {
   "cell_type": "markdown",
   "metadata": {},
   "source": [
    "# 2. logistic regression"
   ]
  },
  {
   "cell_type": "code",
   "execution_count": null,
   "metadata": {},
   "outputs": [],
   "source": [
    "reload(utils)\n",
    "reload(plotting)\n",
    "from utils import get_best_hp_results,read_subset_results_nonimage\n",
    "\n",
    "pred_fxn_name = 'logistic_regression'\n",
    "param_dict = {'penalty': ['l2'],\n",
    "              'C': [0.001, 0.01, 0.1,1.0, 10.0],\n",
    "              'solver': ['lbfgs']\n",
    "             }\n",
    "\n",
    "pred_fxn_base_name = 'subset_{0}_5foldcv/{1}'.format(group_key, pred_fxn_name)\n",
    "this_results_path_ERM = os.path.join(results_general_path, results_descriptor_ERM)\n",
    "results_path_this_pred_fxn = os.path.join(this_results_path_ERM,pred_fxn_base_name)\n",
    "\n",
    "rs_ERM = read_subset_results_nonimage(results_path_this_pred_fxn, param_dict)\n",
    "rs_IW = read_subset_results_nonimage(results_path_this_pred_fxn.replace('ERM','IW'), param_dict)\n",
    "\n",
    "opt_df_ERM, _ = get_best_hp_results(results_path_this_pred_fxn,param_dict, \n",
    "                                    gammas=gammas,acc_key = acc_key)\n",
    "opt_df_IW, _ = get_best_hp_results(results_path_this_pred_fxn.replace('ERM','IW'),\n",
    "                                  param_dict, gammas=gammas,acc_key = acc_key)\n",
    "\n",
    "penalties = param_dict['penalty']\n",
    "cs = param_dict['C']\n",
    "solver = param_dict['solver'][0]\n",
    "\n",
    "fig, ax = plt.subplots(len(penalties),len(cs),\n",
    "                       figsize=(scale*len(cs),scale*len(penalties)),\n",
    "                       sharey=True)\n",
    "\n",
    "results_dicts = [rs_ERM, rs_IW]\n",
    "objs = ['ERM','IW']\n",
    "ls = ['-','--' ]\n",
    "\n",
    "for j,penalty in enumerate(penalties):\n",
    "    for i,c in enumerate(cs):\n",
    "        for k,rs in enumerate(results_dicts):\n",
    "            results = rs[(penalty, c, solver)]\n",
    "            cv_accs_by_group, cv_accs_total = results['accs_by_group'], results['accs_total']\n",
    "            subset_sizes_cv = results['subset_sizes']\n",
    "            subset_fracs_cv = subset_sizes_cv / subset_sizes_cv.sum(axis=0)\n",
    "            plotting.plot_by_group(cv_accs_by_group,\n",
    "                                   cv_accs_total,\n",
    "                                   subset_fracs_cv,\n",
    "                                   acc_key,\n",
    "                                   genre_id_dict,\n",
    "                                 #  gammas = gammas,\n",
    "                                   pop_weights = 'by_eval_set',\n",
    "                                   label_append = ' ({0})'.format(objs[k]),\n",
    "                                   range_type='stddev', \n",
    "                                   title='C: {0}, pen: {1}'.format(c,penalty),\n",
    "                                   ls = ls[k],\n",
    "                                   ax=ax[i],\n",
    "                                   ylim=None,\n",
    "                                   legend=False)\n",
    "        \n",
    "    ax[i].legend()\n",
    "plt.ylim(0.92,1.0)"
   ]
  },
  {
   "cell_type": "code",
   "execution_count": null,
   "metadata": {},
   "outputs": [],
   "source": [
    "opt_df_ERM[opt_df_ERM['group'] == 'gamma_avged']\n"
   ]
  },
  {
   "cell_type": "markdown",
   "metadata": {},
   "source": []
  },
  {
   "cell_type": "markdown",
   "metadata": {},
   "source": [
    "# 3. random forest classifier"
   ]
  },
  {
   "cell_type": "code",
   "execution_count": null,
   "metadata": {
    "scrolled": false
   },
   "outputs": [],
   "source": [
    "rs = {}\n",
    "pred_fxn_name = 'rf_classifier'\n",
    "\n",
    "if results_tag == 'no_demographics':\n",
    "    max_depths = [4, 8, 16, 32]\n",
    "else:\n",
    "    max_depths = [8, 16, 32]\n",
    "param_dict = {'max_depth': max_depths,\n",
    "              'n_estimators': [100,200,400]\n",
    "              }\n",
    "\n",
    "pred_fxn_base_name = 'subset_{0}_5foldcv/{1}'.format(group_key, pred_fxn_name)\n",
    "this_results_path_ERM = os.path.join(results_general_path, results_descriptor_ERM)\n",
    "results_path_this_pred_fxn = os.path.join(this_results_path_ERM,pred_fxn_base_name)\n",
    "\n",
    "rs_ERM = read_subset_results_nonimage(results_path_this_pred_fxn, param_dict)\n",
    "rs_IW = read_subset_results_nonimage(results_path_this_pred_fxn.replace('ERM','IW'), param_dict)\n",
    "\n",
    "opt_df_ERM, _ = get_best_hp_results(results_path_this_pred_fxn,param_dict, \n",
    "                                    gammas=gammas,acc_key = acc_key)\n",
    "opt_df_IW, _ = get_best_hp_results(results_path_this_pred_fxn.replace('ERM','IW'),\n",
    "                                  param_dict, gammas=gammas,acc_key = acc_key)\n",
    "\n",
    "max_depths = param_dict['max_depth']\n",
    "n_estimators = param_dict['n_estimators']\n",
    "\n",
    "scale = 5\n",
    "fig, ax = plt.subplots(len(max_depths),len(n_estimators),\n",
    "                       figsize=(scale*len(n_estimators), scale*len(max_depths)),\n",
    "                       sharey=True)\n",
    "\n",
    "rs_dicts = [rs_ERM, rs_IW]\n",
    "objs = ['ERM','IW']\n",
    "ls = ['-','--' ]\n",
    "\n",
    "\n",
    "for j,max_depth in enumerate(max_depths):\n",
    "    for i,n_estimator in enumerate(n_estimators):\n",
    "        for k, rs in enumerate(rs_dicts):\n",
    "                results = rs[(max_depth, n_estimator)]\n",
    "                cv_accs_by_group, cv_accs_total = results['accs_by_group'], results['accs_total']\n",
    "                subset_sizes_cv = results['subset_sizes']\n",
    "                subset_fracs_cv = subset_sizes_cv / subset_sizes_cv.sum(axis=0)\n",
    "                plotting.plot_by_group(cv_accs_by_group,\n",
    "                                       cv_accs_total,\n",
    "                                       subset_fracs_cv,\n",
    "                                       acc_key,\n",
    "                                       genre_id_dict,\n",
    "                                               label_append = ' ({0})'.format(objs[k]),\n",
    "                                               title='max_depth: {0}, n_estimators: {1}'.format(max_depth,n_estimator),\n",
    "                                               ax=ax[j,i],\n",
    "                                               ls = ls[k],\n",
    "                                               ylim=None,\n",
    "                                               legend=False)\n",
    "                ax[j,i].legend()\n",
    "                "
   ]
  },
  {
   "cell_type": "code",
   "execution_count": null,
   "metadata": {},
   "outputs": [],
   "source": [
    "opt_df_ERM[opt_df_ERM['group'] == 'pop']"
   ]
  },
  {
   "cell_type": "code",
   "execution_count": null,
   "metadata": {},
   "outputs": [],
   "source": [
    "opt_df_IW[opt_df_IW['group'] == 'pop']"
   ]
  },
  {
   "cell_type": "code",
   "execution_count": null,
   "metadata": {},
   "outputs": [],
   "source": [
    "opt_df_ERM[opt_df_ERM['group'] == 1]"
   ]
  },
  {
   "cell_type": "code",
   "execution_count": null,
   "metadata": {},
   "outputs": [],
   "source": [
    "opt_df_ERM[opt_df_ERM['group'] == 'gamma_avged']"
   ]
  },
  {
   "cell_type": "code",
   "execution_count": null,
   "metadata": {},
   "outputs": [],
   "source": []
  },
  {
   "cell_type": "code",
   "execution_count": null,
   "metadata": {},
   "outputs": [],
   "source": []
  }
 ],
 "metadata": {
  "kernelspec": {
   "display_name": "Python 3",
   "language": "python",
   "name": "python3"
  },
  "language_info": {
   "codemirror_mode": {
    "name": "ipython",
    "version": 3
   },
   "file_extension": ".py",
   "mimetype": "text/x-python",
   "name": "python",
   "nbconvert_exporter": "python",
   "pygments_lexer": "ipython3",
   "version": "3.8.5"
  }
 },
 "nbformat": 4,
 "nbformat_minor": 4
}
