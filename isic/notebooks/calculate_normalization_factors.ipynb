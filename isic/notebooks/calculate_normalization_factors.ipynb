{
 "cells": [
  {
   "cell_type": "code",
   "execution_count": null,
   "metadata": {},
   "outputs": [],
   "source": [
    "import os\n",
    "import shutil\n",
    "import pandas as pd\n",
    "\n",
    "import torch\n",
    "import PIL.Image as Image\n",
    "import torchvision.transforms as transforms\n",
    "import time\n",
    "from torch.utils.data import Dataset, DataLoader\n",
    "from skimage import io, transform\n",
    "from importlib import reload\n",
    "import numpy as np"
   ]
  },
  {
   "cell_type": "code",
   "execution_count": null,
   "metadata": {},
   "outputs": [],
   "source": [
    "import sys\n",
    "sys.path.append('../../code/scripts')\n",
    "import dataset"
   ]
  },
  {
   "cell_type": "code",
   "execution_count": null,
   "metadata": {},
   "outputs": [],
   "source": [
    "reload(dataset)\n",
    "\n",
    "# make sure you comment out the normalization in dataset.py first\n",
    "def get_normalization_values(dataset_name):\n",
    "    # computes mean and std of channels over images in the training seat\n",
    "    if dataset_name == 'isic_no_sonic':\n",
    "        dataloaders = dataset.get_data_loaders('../../data',\n",
    "                                     'isic/df_no_sonic_age_over_50_id.csv',\n",
    "                                     'isic/ImagesSmaller',\n",
    "                                     'benign_malignant_01',\n",
    "                                     'auc_roc',\n",
    "                                     all_group_colnames=['age_over_50_id'])\n",
    "    \n",
    "    elif dataset_name == 'isic_with_sonic':\n",
    "        dataloaders = dataset.get_data_loaders('../../data',\n",
    "                                     'isic/df_with_sonic_age_over_50_id.csv',\n",
    "                                     'isic/ImagesSmallerWithSonic',\n",
    "                                     'benign_malignant_01',\n",
    "                                     'auc_roc',\n",
    "                                     all_group_colnames=['age_over_50_id'])\n",
    "\n",
    "    elif dataset_name == 'cifar4':\n",
    "        dataloaders = dataset.get_data_loaders('../../data',\n",
    "                                         'cifar4/df_cifar4_labels.csv',\n",
    "                                         'cifar4/images',\n",
    "                                         'air',\n",
    "                                         'animal',\n",
    "                                         all_group_colnames=['animal'])\n",
    "    \n",
    "    # train_loader_eval_does not shuffle the data\n",
    "    train_loader, train_loader_eval, _,_,_ = dataloaders\n",
    "    \n",
    "    means_by_batch = []\n",
    "    sds_by_batch = []\n",
    "    vars_by_batch = []\n",
    "    counts = 0\n",
    "    for batch_idx, sample in enumerate(train_loader):\n",
    "        means = sample['image'].mean(dim=(0,2,3))\n",
    "        sds = sample['image'].std(dim=(0,2,3))\n",
    "        vars_ = sample['image'].var(dim=(2,3))\n",
    "        means_by_batch.append(means)\n",
    "        sds_by_batch.append(sds)\n",
    "        vars_by_batch.append(vars_)\n",
    "        counts += len(sample['image'])\n",
    "        \n",
    "    means = np.array([np.array(x) for x in means_by_batch]).mean(axis=0)\n",
    "    # sds_batch_avgd is closer to what is described here: \n",
    "    # https://pytorch.org/docs/stable/torchvision/models.html\n",
    "    sds_batch_avgd = np.array([np.array(x) for x in sds_by_batch]).mean(axis=0)\n",
    "    sds = np.sqrt(np.vstack([np.array(x) for x in vars_by_batch]).sum(axis=0) / counts)\n",
    "    \n",
    "    return means, sds, sds_batch_avgd"
   ]
  },
  {
   "cell_type": "code",
   "execution_count": null,
   "metadata": {},
   "outputs": [],
   "source": [
    "# you might not have the last one ready to go, if so skip that\n",
    "dataset_names = ['cifar4','isic_no_sonic','isic_with_sonic'] \n",
    "\n",
    "for dataset_name in dataset_names:\n",
    "    dataset_normalization_values = get_normalization_values(dataset_name)\n",
    "    print('{}:'.format(dataset_name))\n",
    "    print('means: ',dataset_normalization_values[0])\n",
    "    print('average sds: ', dataset_normalization_values[2])\n",
    "    print('precise sds: ', dataset_normalization_values[1])\n",
    "    print()"
   ]
  }
 ],
 "metadata": {
  "kernelspec": {
   "display_name": "Python 3",
   "language": "python",
   "name": "python3"
  },
  "language_info": {
   "codemirror_mode": {
    "name": "ipython",
    "version": 3
   },
   "file_extension": ".py",
   "mimetype": "text/x-python",
   "name": "python",
   "nbconvert_exporter": "python",
   "pygments_lexer": "ipython3",
   "version": "3.8.5"
  }
 },
 "nbformat": 4,
 "nbformat_minor": 4
}
