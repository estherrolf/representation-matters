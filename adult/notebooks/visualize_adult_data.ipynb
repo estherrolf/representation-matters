{
 "cells": [
  {
   "cell_type": "code",
   "execution_count": null,
   "metadata": {},
   "outputs": [],
   "source": [
    "import numpy as np\n",
    "import pandas as pd"
   ]
  },
  {
   "cell_type": "code",
   "execution_count": null,
   "metadata": {},
   "outputs": [],
   "source": [
    "f = pd.read_csv('../../data/adult/df_adult_features.csv')\n",
    "f2 = pd.read_csv('../../data/adult/df_adult_features_no_gender.csv')\n",
    "d = pd.read_csv('../../data/adult/df_adult_labels_5_male_fold_splits.csv')"
   ]
  },
  {
   "cell_type": "code",
   "execution_count": null,
   "metadata": {},
   "outputs": [],
   "source": [
    "d_test = d[d['fold'] == 'test']\n",
    "n_test = len(d_test)\n",
    "n_test_male = d_test['male'].sum()\n",
    "n_test_female = (1-d_test['male']).sum()\n",
    "\n",
    "print(n_test)\n",
    "print(n_test_male)\n",
    "print(n_test_female)"
   ]
  },
  {
   "cell_type": "code",
   "execution_count": null,
   "metadata": {},
   "outputs": [],
   "source": [
    "d_train = d[d['fold'] == 'train']\n",
    "n_train = len(d_train)\n",
    "n_train_male = d_train['male'].sum()\n",
    "n_train_female = (1-d_train['male']).sum()\n",
    "\n",
    "print(n_train)\n",
    "print(n_train_male)\n",
    "print(n_train_female)"
   ]
  },
  {
   "cell_type": "code",
   "execution_count": null,
   "metadata": {},
   "outputs": [],
   "source": [
    "d.groupby(['fold','male']).mean()['>50k']"
   ]
  },
  {
   "cell_type": "code",
   "execution_count": null,
   "metadata": {},
   "outputs": [],
   "source": [
    "d_test = d[d['fold'] == 'test']\n",
    "\n",
    "d_test.groupby('male').mean()['>50k']"
   ]
  },
  {
   "cell_type": "code",
   "execution_count": null,
   "metadata": {},
   "outputs": [],
   "source": []
  }
 ],
 "metadata": {
  "kernelspec": {
   "display_name": "Python 3",
   "language": "python",
   "name": "python3"
  },
  "language_info": {
   "codemirror_mode": {
    "name": "ipython",
    "version": 3
   },
   "file_extension": ".py",
   "mimetype": "text/x-python",
   "name": "python",
   "nbconvert_exporter": "python",
   "pygments_lexer": "ipython3",
   "version": "3.8.5"
  }
 },
 "nbformat": 4,
 "nbformat_minor": 4
}
